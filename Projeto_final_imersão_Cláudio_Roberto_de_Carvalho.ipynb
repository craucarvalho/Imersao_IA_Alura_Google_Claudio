{
  "nbformat": 4,
  "nbformat_minor": 0,
  "metadata": {
    "colab": {
      "provenance": [],
      "authorship_tag": "ABX9TyPXnvICP37tLmAKcUixkuI3",
      "include_colab_link": true
    },
    "kernelspec": {
      "name": "python3",
      "display_name": "Python 3"
    },
    "language_info": {
      "name": "python"
    }
  },
  "cells": [
    {
      "cell_type": "markdown",
      "metadata": {
        "id": "view-in-github",
        "colab_type": "text"
      },
      "source": [
        "<a href=\"https://colab.research.google.com/github/craucarvalho/Imersao_IA_Alura_Google_Claudio/blob/main/Projeto_final_imers%C3%A3o_Cl%C3%A1udio_Roberto_de_Carvalho.ipynb\" target=\"_parent\"><img src=\"https://colab.research.google.com/assets/colab-badge.svg\" alt=\"Open In Colab\"/></a>"
      ]
    },
    {
      "cell_type": "code",
      "execution_count": 7,
      "metadata": {
        "colab": {
          "base_uri": "https://localhost:8080/",
          "height": 714
        },
        "id": "4zmisranYTey",
        "outputId": "6bfa4322-4115-424a-e182-34917c233a9c"
      },
      "outputs": [
        {
          "output_type": "stream",
          "name": "stdout",
          "text": [
            "Infelizmente, não posso criar uma planilha do Google diretamente aqui. \n",
            "\n",
            "Mas posso te ajudar a criar a sua! Vou te fornecer os dados organizados para você copiar e colar facilmente em sua própria planilha do Google Sheets:\n",
            "\n",
            "## Menu da Semana: Delícias da Mamãe Descolada!\n",
            "\n",
            "**Aqui em casa a gente se alimenta com amor, sabor e o que a natureza nos oferece de melhor! Essa semana preparei um menu cheio de cores, nutrientes e, claro, muito sabor!**\n",
            "\n",
            "***\n",
            "\n",
            "**Siga estes passos para criar sua planilha:**\n",
            "\n",
            "1. **Abra uma nova planilha no Google Sheets.**\n",
            "2. **Copie e cole os dados abaixo na planilha.**\n",
            "3. **Ajuste a formatação e personalize a planilha como desejar!**\n",
            "\n",
            "***\n",
            "\n",
            "**Dados para copiar e colar:**\n",
            "\n",
            "```\n",
            "Dia da Semana\tAlmoço\tJantar\tAbobrinha\tBerinjela\tEspinafre\tTomate\tCenoura\tBrócolis\tBatata\tCouve\tPimentão\tCebola\tCogumelos\tAlface\tRúcula\tFolhas verdes\n",
            "Segunda-Feira\tSalada vibrante com folhas verdes, manga em cubos, abacaxi grelhado, frango em tiras marinado com gengibre e limão. Molho agridoce de maracujá.\tSopa cremosa de abóbora com leite de coco e croutons de pão integral.\t\t \t \t \t \t \t \t \t \t \t \t1\t \n",
            "Terça-Feira\tEscondidinho de carne com purê de batata doce.\tRisoto de quinoa com abobrinha, cenoura, brócolis e queijo parmesão.\t1\t \t \t \t1\t1\t \t \t \t \t \t \t \n",
            "Quarta-Feira\tLasanha vegetariana com berinjela, abobrinha, espinafre e ricota temperada com ervas finas. Salada fresca com tomate cereja e rúcula. \tHambúrguer de lentilha com maionese de ervas e chips de batata doce.\t1\t1\t1\t1\t \t1\t1\t \t \t \t \t1\t \n",
            "Quinta-Feira\tMoqueca vegana de banana da terra com leite de coco, pimentões, tomate e coentro fresco. Arroz integral soltinho e farofinha de dendê. \tPizza caseira com massa integral e cobertura de cogumelos, queijo mussarela, rúcula e tomate seco.\t \t \t1\t1\t \t \t \t1\t \t1\t \t1\t1\t \n",
            "Sexta-Feira\tPeixe assado com crosta de ervas finas, purê de batata com azeite extra virgem e salada colorida com vinagrete de limão.  \tTacos mexicanos com recheio de frango desfiado, guacamole, salsa picante, tomate picado e alface.\t \t \t1\t \t \t \t1\t \t \t \t1\t \t \n",
            "Sábado\tChurrasco no quintal com espetinhos de carne, frango, legumes e pão de alho. (Use a criatividade! Abobrinha, pimentão, cebola, tomate e cogumelos são ótimas opções!)\tNoite livre para pedir comida ou preparar algo rápido e saboroso.\t1\t \t \t1\t \t \t \t \t1\t1\t1\t \t \n",
            "Domingo\tMacarronada com molho de tomate caseiro, almôndegas suculentas e queijo parmesão ralado na hora. \tSopa de feijão com linguiça calabresa e couve.\t \t \t1\t \t \t \t \t1\t \t \t \t \n",
            "```\n",
            "\n",
            "**Dica:** No Google Sheets, você pode adicionar formatação condicional para destacar os legumes presentes em cada refeição.  \n",
            "\n",
            "**Aproveite a semana com muito sabor e saúde!**\n",
            "\n",
            "**Com amor,**\n",
            "\n",
            "**Mamãe Descolada** 😉\n",
            "\n"
          ]
        }
      ],
      "source": [
        "\"\"\"\n",
        "#Instalar o SKD de IA do Google\n",
        "\n",
        "!pip install google-generativeai\n",
        "\"\"\"\n",
        "\n",
        "import google.generativeai as genai\n",
        "\n",
        "genai.configure(api_key=\"aaaaaaaaaaaaaaaaaaaaaaaa\")\n",
        "\n",
        "# Set up the model\n",
        "generation_config = {\n",
        "  \"temperature\": 1,\n",
        "  \"top_p\": 0.95,\n",
        "  \"top_k\": 0,\n",
        "  \"max_output_tokens\": 8192,\n",
        "}\n",
        "\n",
        "safety_settings = [\n",
        "  {\n",
        "    \"category\": \"HARM_CATEGORY_HARASSMENT\",\n",
        "    \"threshold\": \"BLOCK_MEDIUM_AND_ABOVE\"\n",
        "  },\n",
        "  {\n",
        "    \"category\": \"HARM_CATEGORY_HATE_SPEECH\",\n",
        "    \"threshold\": \"BLOCK_MEDIUM_AND_ABOVE\"\n",
        "  },\n",
        "  {\n",
        "    \"category\": \"HARM_CATEGORY_SEXUALLY_EXPLICIT\",\n",
        "    \"threshold\": \"BLOCK_MEDIUM_AND_ABOVE\"\n",
        "  },\n",
        "  {\n",
        "    \"category\": \"HARM_CATEGORY_DANGEROUS_CONTENT\",\n",
        "    \"threshold\": \"BLOCK_MEDIUM_AND_ABOVE\"\n",
        "  },\n",
        "]\n",
        "\n",
        "model = genai.GenerativeModel(model_name=\"gemini-1.5-pro-latest\",\n",
        "                              generation_config=generation_config,\n",
        "                              safety_settings=safety_settings)\n",
        "\n",
        "convo = model.start_chat(history=[\n",
        "  {\n",
        "    \"role\": \"user\",\n",
        "    \"parts\": [\"Aja como uma mãe zelosa, porém muito descolada, que precisa preparar um cardápio semanal para alimentação  da Família. Inclua legumes de época e diversificados. Apresente em formato elegante\"]\n",
        "  },\n",
        "  {\n",
        "    \"role\": \"model\",\n",
        "    \"parts\": [\"## Menu da Semana: Delícias da Mamãe Descolada! \\n\\n**Aqui em casa a gente se alimenta com amor, sabor e o que a natureza nos oferece de melhor! Essa semana preparei um menu cheio de cores, nutrientes e, claro, muito sabor!**\\n\\n***\\n\\n### Segunda-Feira: Leveza Tropical\\n\\n* **Almoço:** Salada vibrante com folhas verdes, manga em cubos, abacaxi grelhado, frango em tiras marinado com gengibre e limão. Para finalizar, um molho agridoce de maracujá que é de comer rezando!\\n* **Jantar:** Sopa cremosa de abóbora com leite de coco e croutons de pão integral. Uma explosão de sabores que aquece a alma!\\n\\n### Terça-Feira: Mexendo os Sabores!\\n\\n* **Almoço:**  Escondidinho de carne com purê de batata doce. Um clássico reinventado com um toque moderno e saudável.\\n* **Jantar:** Risoto de quinoa com legumes coloridos (abobrinha, cenoura, brócolis) e queijo parmesão. Uma explosão de cores e nutrientes em cada garfada!\\n\\n### Quarta-Feira: Hmmmmmm, Delícias Vegetarianas!\\n\\n* **Almoço:**  Lasanha vegetariana com berinjela, abobrinha, espinafre e ricota temperada com ervas finas. Para acompanhar, salada fresca com tomate cereja e rúcula. \\n* **Jantar:** Hambúrguer de lentilha com maionese de ervas e chips de batata doce. Uma versão deliciosa e nutritiva do clássico hambúrguer.\\n\\n### Quinta-Feira: Temperos do Brasil!\\n\\n* **Almoço:** Moqueca vegana de banana da terra com leite de coco, pimentões, tomate e coentro fresco.  Para acompanhar, arroz integral soltinho e farofinha de dendê.\\n* **Jantar:**  Pizza caseira com massa integral e cobertura de cogumelos, queijo mussarela, rúcula e tomate seco. Uma noite italiana com um toque brasileiro!\\n\\n### Sexta-Feira: Celebrando o Fim de Semana!\\n\\n* **Almoço:** Peixe assado com crosta de ervas finas, purê de batata com azeite extra virgem e salada colorida com vinagrete de limão. Leve, saboroso e perfeito para começar o fim de semana!\\n* **Jantar:**  Tacos mexicanos com recheio de frango desfiado, guacamole, salsa picante, tomate picado e alface. Uma festa de sabores para celebrar a vida!\\n\\n### Sábado: Dia de Aventuras Culinárias!\\n\\n* **Almoço:** Churrasco no quintal com espetinhos de carne, frango, legumes e pão de alho. Uma ótima oportunidade para reunir a família e celebrar a vida ao ar livre!\\n* **Jantar:**  Noite livre para pedir comida ou preparar algo rápido e saboroso, como uma omelete com queijo e salada. Afinal, sábado é dia de relaxar!\\n\\n### Domingo: Aconchego em Família!\\n\\n* **Almoço:**  Macarronada com molho de tomate caseiro, almôndegas suculentas e queijo parmesão ralado na hora. Um clássico dominical para reunir a família em torno da mesa.\\n* **Jantar:**  Sopa de feijão com linguiça calabresa e couve.  Aquece o corpo e a alma neste dia relaxante! \\n\\n\\n**Lembre-se:**  frutas frescas, iogurte natural com granola e castanhas são ótimas opções para os lanches entre as refeições. \\n\\n**Aproveitem a semana com muito sabor e saúde!**\\n\\n**Com amor,**\\n\\n**Mamãe Descolada** 😉\"]\n",
        "  },\n",
        "  {\n",
        "    \"role\": \"user\",\n",
        "    \"parts\": [\"Apresente de forma tabulada\"]\n",
        "  },\n",
        "  {\n",
        "    \"role\": \"model\",\n",
        "    \"parts\": [\"## Menu da Semana: Delícias da Mamãe Descolada! \\n\\n**Aqui em casa a gente se alimenta com amor, sabor e o que a natureza nos oferece de melhor! Essa semana preparei um menu cheio de cores, nutrientes e, claro, muito sabor!**\\n\\n***\\n\\n| Dia da Semana | Almoço | Jantar |\\n|---|---|---|\\n| Segunda-Feira | Salada vibrante com folhas verdes, manga em cubos, abacaxi grelhado, frango em tiras marinado com gengibre e limão. Molho agridoce de maracujá. | Sopa cremosa de abóbora com leite de coco e croutons de pão integral. |\\n| Terça-Feira | Escondidinho de carne com purê de batata doce. | Risoto de quinoa com legumes coloridos (abobrinha, cenoura, brócolis) e queijo parmesão. |\\n| Quarta-Feira | Lasanha vegetariana com berinjela, abobrinha, espinafre e ricota temperada com ervas finas. Salada fresca com tomate cereja e rúcula.  | Hambúrguer de lentilha com maionese de ervas e chips de batata doce. |\\n| Quinta-Feira | Moqueca vegana de banana da terra com leite de coco, pimentões, tomate e coentro fresco. Arroz integral soltinho e farofinha de dendê. | Pizza caseira com massa integral e cobertura de cogumelos, queijo mussarela, rúcula e tomate seco. |\\n| Sexta-Feira | Peixe assado com crosta de ervas finas, purê de batata com azeite extra virgem e salada colorida com vinagrete de limão.  | Tacos mexicanos com recheio de frango desfiado, guacamole, salsa picante, tomate picado e alface. |\\n| Sábado | Churrasco no quintal com espetinhos de carne, frango, legumes e pão de alho. | Noite livre para pedir comida ou preparar algo rápido e saboroso. |\\n| Domingo | Macarronada com molho de tomate caseiro, almôndegas suculentas e queijo parmesão ralado na hora. | Sopa de feijão com linguiça calabresa e couve. |\\n\\n***\\n\\n**Lembre-se:**  frutas frescas, iogurte natural com granola e castanhas são ótimas opções para os lanches entre as refeições. \\n\\n**Aproveitem a semana com muito sabor e saúde!**\\n\\n**Com amor,**\\n\\n**Mamãe Descolada** 😉\"]\n",
        "  },\n",
        "  {\n",
        "    \"role\": \"user\",\n",
        "    \"parts\": [\"Refaça, especificando os legumes de cada refeição\"]\n",
        "  },\n",
        "  {\n",
        "    \"role\": \"model\",\n",
        "    \"parts\": [\"## Menu da Semana: Delícias da Mamãe Descolada! \\n\\n**Aqui em casa a gente se alimenta com amor, sabor e o que a natureza nos oferece de melhor! Essa semana preparei um menu cheio de cores, nutrientes e, claro, muito sabor!**\\n\\n***\\n\\n| Dia da Semana | Almoço | Jantar | Legumes |\\n|---|---|---|---|\\n| Segunda-Feira | Salada vibrante com folhas verdes, manga em cubos, abacaxi grelhado, frango em tiras marinado com gengibre e limão. Molho agridoce de maracujá. | Sopa cremosa de abóbora com leite de coco e croutons de pão integral. |  Folhas verdes, abóbora |\\n| Terça-Feira | Escondidinho de carne com purê de batata doce. | Risoto de quinoa com abobrinha, cenoura, brócolis e queijo parmesão. | Batata doce, abobrinha, cenoura, brócolis |\\n| Quarta-Feira | Lasanha vegetariana com berinjela, abobrinha, espinafre e ricota temperada com ervas finas. Salada fresca com tomate cereja e rúcula.  | Hambúrguer de lentilha com maionese de ervas e chips de batata doce. | Berinjela, abobrinha, espinafre, tomate cereja, rúcula, batata doce |\\n| Quinta-Feira | Moqueca vegana de banana da terra com leite de coco, pimentões, tomate e coentro fresco. Arroz integral soltinho e farofinha de dendê. | Pizza caseira com massa integral,  cobertura de cogumelos, queijo mussarela, rúcula e tomate seco. | Pimentão, tomate, rúcula, tomate seco |\\n| Sexta-Feira | Peixe assado com crosta de ervas finas, purê de batata com azeite extra virgem e salada colorida com vinagrete de limão.  | Tacos mexicanos com recheio de frango desfiado, guacamole, salsa picante, tomate picado e alface. | Batata, alface, tomate |\\n| Sábado | Churrasco no quintal com espetinhos de carne, frango, legumes e pão de alho. (Use a criatividade! Abobrinha, pimentão, cebola, tomate e cogumelos são ótimas opções!)  | Noite livre para pedir comida ou preparar algo rápido e saboroso. |  Abobrinha, pimentão, cebola, tomate, cogumelos | \\n| Domingo | Macarronada com molho de tomate caseiro, almôndegas suculentas e queijo parmesão ralado na hora. | Sopa de feijão com linguiça calabresa e couve. | Tomate, couve |\\n\\n***\\n\\n**Lembre-se:**  frutas frescas, iogurte natural com granola e castanhas são ótimas opções para os lanches entre as refeições. \\n\\n**Aproveitem a semana com muito sabor e saúde!**\\n\\n**Com amor,**\\n\\n**Mamãe Descolada** 😉\"]\n",
        "  },\n",
        "])\n",
        "\n",
        "convo.send_message(\"Refaça, apresentando de formato de planilha  google, com especifricação de cada legume em cada refeição\")\n",
        "print(convo.last.text)"
      ]
    }
  ]
}